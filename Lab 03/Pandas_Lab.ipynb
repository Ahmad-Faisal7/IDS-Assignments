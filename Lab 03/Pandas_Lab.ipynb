{
 "cells": [
  {
   "cell_type": "markdown",
   "metadata": {},
   "source": [
    "# **IDS Lab 03 (Pandas)**"
   ]
  },
  {
   "cell_type": "markdown",
   "metadata": {},
   "source": [
    " **Ahmad Faisal**\n",
    " \n",
    "  **BSDSF21A034**"
   ]
  },
  {
   "cell_type": "markdown",
   "metadata": {},
   "source": [
    "* **Tast 01:** Data Inspection and Missing Value Handling"
   ]
  },
  {
   "cell_type": "code",
   "execution_count": null,
   "metadata": {},
   "outputs": [
    {
     "name": "stdout",
     "output_type": "stream",
     "text": [
      "Dataset Preview:\n",
      "   Id  SepalLengthCm  SepalWidthCm  PetalLengthCm  PetalWidthCm      Species\n",
      "0   1            5.1           3.5            1.4           0.2  Iris-setosa\n",
      "1   2            4.9           3.0            1.4           0.2  Iris-setosa\n",
      "2   3            4.7           3.2            1.3           0.2  Iris-setosa\n",
      "3   4            4.6           3.1            1.5           0.2  Iris-setosa\n",
      "4   5            5.0           3.6            1.4           0.2  Iris-setosa\n",
      "\n",
      "Dataset Information:\n",
      "<class 'pandas.core.frame.DataFrame'>\n",
      "RangeIndex: 150 entries, 0 to 149\n",
      "Data columns (total 6 columns):\n",
      " #   Column         Non-Null Count  Dtype  \n",
      "---  ------         --------------  -----  \n",
      " 0   Id             150 non-null    int64  \n",
      " 1   SepalLengthCm  150 non-null    float64\n",
      " 2   SepalWidthCm   150 non-null    float64\n",
      " 3   PetalLengthCm  150 non-null    float64\n",
      " 4   PetalWidthCm   150 non-null    float64\n",
      " 5   Species        150 non-null    object \n",
      "dtypes: float64(4), int64(1), object(1)\n",
      "memory usage: 7.2+ KB\n",
      "None\n",
      "\n",
      "Missing Values in Each Column:\n",
      "Id               0\n",
      "SepalLengthCm    0\n",
      "SepalWidthCm     0\n",
      "PetalLengthCm    0\n",
      "PetalWidthCm     0\n",
      "Species          0\n",
      "dtype: int64\n",
      "\n",
      "Missing values handled.\n"
     ]
    }
   ],
   "source": [
    "import pandas as pd\n",
    "\n",
    "# Load the dataset\n",
    "iris_data = pd.read_csv(\"Iris.csv\")\n",
    "\n",
    "# Inspect the dataset\n",
    "print(\"Dataset Preview:\")\n",
    "print(iris_data.head())\n",
    "print(\"\\nDataset Information:\")\n",
    "print(iris_data.info())\n",
    "\n",
    "# Check for missing values\n",
    "missing_values = iris_data.isnull().sum()\n",
    "print(\"\\nMissing Values in Each Column:\")\n",
    "print(missing_values)\n",
    "\n",
    "# Handle missing values in numeric columns\n",
    "numeric_columns = ['SepalLengthCm', 'SepalWidthCm', 'PetalLengthCm', 'PetalWidthCm']\n",
    "for col in numeric_columns:\n",
    "    iris_data[col].fillna(iris_data[col].mean(), inplace=True)\n",
    "\n",
    "# Handle missing values in the species column \n",
    "iris_data['Species'].fillna(iris_data['Species'].mode()[0], inplace=True)\n",
    "print(\"\\nMissing values handled.\")\n"
   ]
  },
  {
   "cell_type": "markdown",
   "metadata": {},
   "source": [
    "* **Task 02:** Data Cleaning and Transformation"
   ]
  },
  {
   "cell_type": "code",
   "execution_count": 8,
   "metadata": {},
   "outputs": [
    {
     "name": "stdout",
     "output_type": "stream",
     "text": [
      "\n",
      "Duplicates Removed: 0\n",
      "\n",
      "New Column 'PetalArea' Added.\n",
      "\n",
      "    Id  SepalLengthCm  SepalWidthCm  PetalLengthCm  PetalWidthCm      Species  \\\n",
      "0   1            5.1           3.5            1.4           0.2  Iris-setosa   \n",
      "1   2            4.9           3.0            1.4           0.2  Iris-setosa   \n",
      "2   3            4.7           3.2            1.3           0.2  Iris-setosa   \n",
      "3   4            4.6           3.1            1.5           0.2  Iris-setosa   \n",
      "4   5            5.0           3.6            1.4           0.2  Iris-setosa   \n",
      "\n",
      "   PetalArea  \n",
      "0       0.28  \n",
      "1       0.28  \n",
      "2       0.26  \n",
      "3       0.30  \n",
      "4       0.28  \n",
      "\n",
      "Remaining Missing Values Dropped.\n"
     ]
    }
   ],
   "source": [
    "# Remove duplicate entries\n",
    "before_dedup = iris_data.shape[0]\n",
    "iris_data = iris_data.drop_duplicates()\n",
    "after_dedup = iris_data.shape[0]\n",
    "print(f\"\\nDuplicates Removed: {before_dedup - after_dedup}\")\n",
    "\n",
    "# Create a new column for petal area\n",
    "iris_data['PetalArea'] = iris_data['PetalLengthCm'] * iris_data['PetalWidthCm']\n",
    "print(\"\\nNew Column 'PetalArea' Added.\")\n",
    "print(\"\\n\", iris_data.head())\n",
    "\n",
    "# Drop rows with any remaining missing values\n",
    "iris_data = iris_data.dropna()\n",
    "print(\"\\nRemaining Missing Values Dropped.\")\n"
   ]
  },
  {
   "cell_type": "markdown",
   "metadata": {},
   "source": [
    "* **Task 03:** Aggregation and Transformation"
   ]
  },
  {
   "cell_type": "code",
   "execution_count": 15,
   "metadata": {},
   "outputs": [
    {
     "name": "stdout",
     "output_type": "stream",
     "text": [
      "\n",
      "Species Column Converted to Numeric.\n",
      "\n",
      "    Id  SepalLengthCm  SepalWidthCm  PetalLengthCm  PetalWidthCm      Species  \\\n",
      "0   1            5.1           3.5            1.4           0.2  Iris-setosa   \n",
      "1   2            4.9           3.0            1.4           0.2  Iris-setosa   \n",
      "2   3            4.7           3.2            1.3           0.2  Iris-setosa   \n",
      "3   4            4.6           3.1            1.5           0.2  Iris-setosa   \n",
      "4   5            5.0           3.6            1.4           0.2  Iris-setosa   \n",
      "\n",
      "   PetalArea  SpeciesNumeric  \n",
      "0       0.28               0  \n",
      "1       0.28               0  \n",
      "2       0.26               0  \n",
      "3       0.30               0  \n",
      "4       0.28               0  \n",
      "\n",
      "Mean Values Grouped by Species:\n",
      "                 SepalLengthCm  SepalWidthCm  PetalLengthCm  PetalWidthCm  \\\n",
      "Species                                                                     \n",
      "Iris-setosa              5.006         3.418          1.464         0.244   \n",
      "Iris-versicolor          5.936         2.770          4.260         1.326   \n",
      "Iris-virginica           6.588         2.974          5.552         2.026   \n",
      "\n",
      "                 PetalArea  \n",
      "Species                     \n",
      "Iris-setosa         0.3628  \n",
      "Iris-versicolor     5.7204  \n",
      "Iris-virginica     11.2962  \n"
     ]
    }
   ],
   "source": [
    "# Convert species to numeric values\n",
    "iris_data['SpeciesNumeric'] = iris_data['Species'].astype('category').cat.codes\n",
    "print(\"\\nSpecies Column Converted to Numeric.\")\n",
    "print(\"\\n\", iris_data.head())\n",
    "\n",
    "# Group by species and calculate the mean of numeric columns\n",
    "numeric_columns = ['SepalLengthCm', 'SepalWidthCm', 'PetalLengthCm', 'PetalWidthCm', 'PetalArea']\n",
    "grouped_means = iris_data[numeric_columns + ['Species']].groupby('Species').mean()\n",
    "print(\"\\nMean Values Grouped by Species:\")\n",
    "print(grouped_means)\n"
   ]
  },
  {
   "cell_type": "markdown",
   "metadata": {},
   "source": [
    "* **Task 4:** Advanced Reshaping"
   ]
  },
  {
   "cell_type": "code",
   "execution_count": 17,
   "metadata": {},
   "outputs": [
    {
     "name": "stdout",
     "output_type": "stream",
     "text": [
      "\n",
      "Reshaped Dataset (Long Format):\n",
      "            Species  SpeciesNumeric MeasurementType  MeasurementValue\n",
      "0       Iris-setosa               0   SepalLengthCm               5.1\n",
      "1       Iris-setosa               0   SepalLengthCm               4.9\n",
      "2       Iris-setosa               0   SepalLengthCm               4.7\n",
      "3       Iris-setosa               0   SepalLengthCm               4.6\n",
      "4       Iris-setosa               0   SepalLengthCm               5.0\n",
      "..              ...             ...             ...               ...\n",
      "595  Iris-virginica               2    PetalWidthCm               2.3\n",
      "596  Iris-virginica               2    PetalWidthCm               1.9\n",
      "597  Iris-virginica               2    PetalWidthCm               2.0\n",
      "598  Iris-virginica               2    PetalWidthCm               2.3\n",
      "599  Iris-virginica               2    PetalWidthCm               1.8\n",
      "\n",
      "[600 rows x 4 columns]\n"
     ]
    }
   ],
   "source": [
    "# Reshape the dataset to a long format\n",
    "iris_long = iris_data.melt(\n",
    "    id_vars=['Species', 'SpeciesNumeric'],\n",
    "    value_vars=['SepalLengthCm', 'SepalWidthCm', 'PetalLengthCm', 'PetalWidthCm'],\n",
    "    var_name='MeasurementType',\n",
    "    value_name='MeasurementValue'\n",
    ")\n",
    "\n",
    "print(\"\\nReshaped Dataset (Long Format):\")\n",
    "print(iris_long)\n"
   ]
  }
 ],
 "metadata": {
  "kernelspec": {
   "display_name": "Python 3",
   "language": "python",
   "name": "python3"
  },
  "language_info": {
   "codemirror_mode": {
    "name": "ipython",
    "version": 3
   },
   "file_extension": ".py",
   "mimetype": "text/x-python",
   "name": "python",
   "nbconvert_exporter": "python",
   "pygments_lexer": "ipython3",
   "version": "3.12.0"
  }
 },
 "nbformat": 4,
 "nbformat_minor": 2
}
