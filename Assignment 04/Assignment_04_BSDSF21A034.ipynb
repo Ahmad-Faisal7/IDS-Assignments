{
 "cells": [
  {
   "cell_type": "markdown",
   "metadata": {},
   "source": [
    "**IDS Assignment 04**\n",
    "* Ahmad Faisal\n",
    "* BSDSF21A034"
   ]
  },
  {
   "cell_type": "markdown",
   "metadata": {},
   "source": [
    "- Task 1"
   ]
  },
  {
   "cell_type": "code",
   "execution_count": null,
   "metadata": {},
   "outputs": [
    {
     "name": "stdout",
     "output_type": "stream",
     "text": [
      "Temperature and humidity data initialized.\n"
     ]
    },
    {
     "data": {
      "text/plain": [
       "array([[29.44115923, 18.86892575, -7.67466811, ..., -9.49519473,\n",
       "        -5.66563788, 14.85322829],\n",
       "       [39.58431286, 28.00487175,  7.93356106, ..., 30.31145061,\n",
       "         0.47073733, 21.64885155],\n",
       "       [12.0807892 , -2.60435518, 24.11483442, ..., 27.76974816,\n",
       "         8.89975803, 21.36570787],\n",
       "       ...,\n",
       "       [22.59583355, 36.27246963, 35.37566236, ..., -0.47893403,\n",
       "        -2.91457617,  3.12551862],\n",
       "       [11.66084408, -2.91752808, 11.67146611, ..., 30.05220045,\n",
       "        25.71421168,  0.30870231],\n",
       "       [-3.19878061, -4.46226471, 14.40103209, ..., 35.40500681,\n",
       "        30.30058457, -2.91798004]])"
      ]
     },
     "execution_count": 31,
     "metadata": {},
     "output_type": "execute_result"
    }
   ],
   "source": [
    "import numpy as np\n",
    "\n",
    "# Generate random temperature data for 500 locations over 365 days\n",
    "# Temperature values range from -10 to 40 degrees Celsius\n",
    "temperature_data = np.random.uniform(-10, 40, (500, 365))\n",
    "\n",
    "# Generate random humidity data for 500 locations over 365 days\n",
    "# Humidity percentages range from 0% to 100%\n",
    "humidity_data = np.random.uniform(0, 100, (500, 365))\n",
    "\n",
    "print(\"Temperature and humidity data initialized.\")\n",
    "temperature_data\n"
   ]
  },
  {
   "cell_type": "markdown",
   "metadata": {},
   "source": [
    "- Task 2"
   ]
  },
  {
   "cell_type": "code",
   "execution_count": 32,
   "metadata": {},
   "outputs": [
    {
     "name": "stdout",
     "output_type": "stream",
     "text": [
      "Total missing values in temperature data: 9125\n",
      "Total missing values in humidity data: 9125\n"
     ]
    }
   ],
   "source": [
    "# Set 5% of values in temperature_data and humidity_data to None (simulate missing data)\n",
    "missing_indices_temp = np.random.choice(temperature_data.size, int(0.05 * temperature_data.size), replace=False)\n",
    "missing_indices_humid = np.random.choice(humidity_data.size, int(0.05 * humidity_data.size), replace=False)\n",
    "\n",
    "# Convert indices to row, column format and set values to NaN for missing data simulation\n",
    "temperature_data.flat[missing_indices_temp] = np.nan\n",
    "humidity_data.flat[missing_indices_humid] = np.nan\n",
    "\n",
    "# Calculate the number of missing values in each dataset\n",
    "temp_missing_count = np.isnan(temperature_data).sum()\n",
    "humid_missing_count = np.isnan(humidity_data).sum()\n",
    "\n",
    "print(f\"Total missing values in temperature data: {temp_missing_count}\")\n",
    "print(f\"Total missing values in humidity data: {humid_missing_count}\")\n"
   ]
  },
  {
   "cell_type": "markdown",
   "metadata": {},
   "source": [
    "- Task 3"
   ]
  },
  {
   "cell_type": "code",
   "execution_count": 35,
   "metadata": {},
   "outputs": [
    {
     "name": "stdout",
     "output_type": "stream",
     "text": [
      "Temperature converted to Fahrenheit and discomfort index calculated.\n",
      "[[ 84.99408662  65.96406636  18.1855974  ...  14.90864948  21.80185181\n",
      "   58.73581093]\n",
      " [103.25176315  82.40876915  46.28040991 ...  86.5606111   32.8473272\n",
      "   70.9679328 ]\n",
      " [ 53.74542055  27.31216068  75.40670196 ...  81.98554668  48.01956445\n",
      "   70.45827416]\n",
      " ...\n",
      " [ 72.67250038  97.29044534  95.67619225 ...  31.13791875  26.75376289\n",
      "   37.62593351]\n",
      " [ 52.98951934  26.74844945  53.00863899 ...  86.0939608   78.28558102\n",
      "   32.55566417]\n",
      " [ 26.2421949   23.96792351  57.92185776 ...  95.72901225  86.54105223\n",
      "   26.74763593]]\n"
     ]
    },
    {
     "data": {
      "text/plain": [
       "array([[60.76327999, 63.29812738, 33.12970194, ..., 26.20656366,\n",
       "        23.38313985, 55.37534618],\n",
       "       [80.        , 60.97606706, 49.18315541, ..., 72.35835859,\n",
       "        35.48917933, 54.88916373],\n",
       "       [54.55702265, 29.69979817, 69.73127819, ..., 80.        ,\n",
       "        52.44470509, 59.54083336],\n",
       "       ...,\n",
       "       [73.03998311, 80.        , 80.        , ..., 44.78923342,\n",
       "        42.89974055, 48.96258953],\n",
       "       [59.34525061, 44.53552154, 53.56834184, ..., 61.25308654,\n",
       "        59.09316018, 43.15924054],\n",
       "       [21.71623487, 17.90471713,  0.        , ..., 80.        ,\n",
       "        74.17597634, 26.8269056 ]])"
      ]
     },
     "execution_count": 35,
     "metadata": {},
     "output_type": "execute_result"
    }
   ],
   "source": [
    "# Convert Celsius temperatures to Fahrenheit\n",
    "temperature_fahrenheit = (temperature_data * 9/5) + 32\n",
    "\n",
    "# Calculate \"feels like\" discomfort index: a simple weighted sum of temperature and humidity\n",
    "# Here, we'll use 0.7 * temperature + 0.3 * humidity as a sample formula for \"feels like\"\n",
    "# Use `np.nan_to_num` to handle NaNs in discomfort index\n",
    "discomfort_index = np.nan_to_num(0.7 * temperature_fahrenheit + 0.3 * humidity_data)\n",
    "\n",
    "# Cap the discomfort index values at 80\n",
    "discomfort_index = np.clip(discomfort_index, None, 80)\n",
    "\n",
    "print(\"Temperature converted to Fahrenheit and discomfort index calculated.\")\n",
    "print(temperature_fahrenheit)\n",
    "discomfort_index"
   ]
  },
  {
   "cell_type": "markdown",
   "metadata": {},
   "source": [
    "- Task 4"
   ]
  },
  {
   "cell_type": "code",
   "execution_count": 42,
   "metadata": {},
   "outputs": [
    {
     "name": "stdout",
     "output_type": "stream",
     "text": [
      "Average January temperature across all locations: 15.00 °C\n"
     ]
    }
   ],
   "source": [
    "# Extract temperatures for the first 31 days (January)\n",
    "january_temperatures = temperature_data[:, :31]\n",
    "\n",
    "# Calculate the average January temperature across all 500 locations\n",
    "january_avg_temp = np.nanmean(january_temperatures)\n",
    "\n",
    "print(f\"Average January temperature across all locations: {january_avg_temp:.2f} °C\")\n"
   ]
  },
  {
   "cell_type": "markdown",
   "metadata": {},
   "source": [
    "- Task 5"
   ]
  },
  {
   "cell_type": "code",
   "execution_count": 43,
   "metadata": {},
   "outputs": [
    {
     "name": "stdout",
     "output_type": "stream",
     "text": [
      "Extreme temperatures marked as NaN.\n",
      "Number of NaNs per location: [51 58 46 43 62 55 65 47 58 67 55 48 54 48 49 49 54 47 63 59 49 47 54 62\n",
      " 62 45 62 45 67 42 53 49 60 44 47 60 53 53 61 43 49 50 61 59 56 62 53 54\n",
      " 60 61 51 50 44 55 52 64 52 52 59 51 53 55 56 41 53 44 56 53 43 53 51 45\n",
      " 54 51 49 57 49 58 52 53 53 50 44 66 52 54 53 54 44 53 58 41 54 52 64 64\n",
      " 55 49 53 44 54 47 51 51 49 49 59 54 66 51 57 54 53 57 48 57 52 47 51 51\n",
      " 58 59 56 60 61 47 52 52 54 57 46 53 49 46 51 52 49 42 61 58 42 59 49 56\n",
      " 51 57 47 48 60 65 58 61 52 55 51 54 56 52 43 58 59 51 62 49 57 56 51 61\n",
      " 48 62 49 59 64 48 41 47 49 49 53 47 58 46 52 67 50 63 53 60 51 53 54 47\n",
      " 44 53 50 51 47 43 51 53 62 52 59 59 45 60 58 49 53 59 52 53 54 52 55 47\n",
      " 57 48 59 53 59 43 50 52 48 53 59 53 60 51 55 58 57 64 54 63 54 51 43 62\n",
      " 56 53 53 54 44 57 43 61 46 54 66 53 49 57 58 53 47 51 47 45 47 43 60 64\n",
      " 48 45 49 55 52 48 64 61 47 58 47 60 52 55 56 55 56 46 54 42 49 67 51 56\n",
      " 67 63 44 49 59 54 47 58 66 49 53 48 52 53 62 55 60 41 48 49 61 57 46 67\n",
      " 43 53 62 48 47 61 49 46 49 49 58 51 59 48 57 51 58 50 44 58 48 57 57 43\n",
      " 45 56 54 49 47 59 54 60 48 57 55 52 48 50 47 46 61 45 67 45 54 60 57 50\n",
      " 47 54 52 47 52 56 68 70 43 50 57 52 60 42 46 67 57 53 47 58 49 44 51 56\n",
      " 51 59 58 72 55 58 57 61 60 54 52 56 57 53 42 51 65 51 44 62 42 45 47 47\n",
      " 48 51 54 53 37 45 55 64 50 56 58 53 57 56 54 54 49 58 63 55 43 62 48 67\n",
      " 45 50 49 51 48 52 65 59 62 50 59 47 53 59 59 55 48 55 66 61 65 50 57 58\n",
      " 41 42 48 40 45 62 47 51 51 45 54 62 42 40 50 54 58 50 49 56 56 59 52 56\n",
      " 57 57 61 44 64 59 56 64 53 53 54 46 43 50 57 39 43 53 49 58]\n"
     ]
    }
   ],
   "source": [
    "# Mark temperatures over 35°C as potential errors by setting them to NaN\n",
    "temperature_data[temperature_data > 35] = np.nan\n",
    "\n",
    "# Count the number of NaN values per location\n",
    "null_count_per_location = np.isnan(temperature_data).sum(axis=1)\n",
    "\n",
    "print(\"Extreme temperatures marked as NaN.\")\n",
    "print(\"Number of NaNs per location:\", null_count_per_location)\n"
   ]
  },
  {
   "cell_type": "markdown",
   "metadata": {},
   "source": [
    "- Task 6"
   ]
  },
  {
   "cell_type": "code",
   "execution_count": 55,
   "metadata": {},
   "outputs": [
    {
     "name": "stdout",
     "output_type": "stream",
     "text": [
      "Quarterly average temperatures calculated for each location:\n",
      "[[12.15564778 11.80901729 12.57416647 11.85959284]\n",
      " [12.89714704 10.22366735 12.3830414  12.79432451]\n",
      " [12.53607105 11.77213233 13.69492948 13.19283561]\n",
      " ...\n",
      " [13.6742443   9.434188   14.38074332  9.37949313]\n",
      " [12.73383943 12.26343359 13.31853003 11.49234078]\n",
      " [11.09106596 15.92111769 13.17327875 13.58361841]]\n"
     ]
    },
    {
     "name": "stderr",
     "output_type": "stream",
     "text": [
      "C:\\Users\\jstah\\AppData\\Local\\Temp\\ipykernel_6760\\549732352.py:11: RuntimeWarning: Mean of empty slice\n",
      "  quarterly_avg_temperatures = np.nanmean(temperature_data_quarters, axis=2)\n"
     ]
    }
   ],
   "source": [
    "# Reshape temperature data into four quarters (each with approximately 91 days)\n",
    "# temperature_data_quarters = temperature_data.reshape(500, 4, -1)\n",
    "# This was giving error: ValueError: cannot reshape array of size 182500 into shape (500,4,newaxis)\n",
    "# so we will Pad the data to reach (500 * 4 * 92)\n",
    "temperature_data_padded = temperature_data.flatten()\n",
    "temperature_data_padded = np.pad(temperature_data_padded, (0, 1500), mode='constant', constant_values=np.nan)\n",
    "temperature_data_quarters = temperature_data_padded.reshape(500, 4, 92)\n",
    "\n",
    "\n",
    "# Calculate the average temperature for each location for each quarter\n",
    "quarterly_avg_temperatures = np.nanmean(temperature_data_quarters, axis=2)\n",
    "\n",
    "# Remove rows where all quarterly averages are NaN\n",
    "quarterly_avg_temperatures = quarterly_avg_temperatures[~np.isnan(quarterly_avg_temperatures).all(axis=1)]\n",
    "\n",
    "print(\"Quarterly average temperatures calculated for each location:\")\n",
    "print(quarterly_avg_temperatures)\n"
   ]
  },
  {
   "cell_type": "markdown",
   "metadata": {},
   "source": [
    "- Task 7"
   ]
  },
  {
   "cell_type": "code",
   "execution_count": 57,
   "metadata": {},
   "outputs": [
    {
     "name": "stdout",
     "output_type": "stream",
     "text": [
      "Dry and Humid day counts for each location:\n",
      "Dry days: [105 113 118 123 114 107  99  92 107 105 104 102 107  93 113 103 103  83\n",
      " 112 116 107 100 107 101 100  98 112  95 106  94 111 108 108  99 123 119\n",
      " 128 104 112 105  92 102 108  97 111 103  89 121 101 112 101 109 104 103\n",
      " 101 112  87 113  99  90 111 102  98  93 107 104 109  95  96 108  88  92\n",
      " 109 107 105 105 105 108 115  99 102 110 105 102  89 106 102 111 103  98\n",
      " 119 108 107 100  95 113 108 106 106  98 104  91 104 102 102 106 101  90\n",
      " 108  95 105 101 106  89 109 110 115 104 113 103 113 105 113 126 118  89\n",
      "  86 112  92  96 109 111 105 107 114  93 111 101  91 102 100 114 101 110\n",
      " 105 106 118  95 108 105 112 101 107 122 114  97  93  97 102  97 104 102\n",
      "  99  96  96 110 106 104  89  90  96 114 119 104 106  87  91 104  91 101\n",
      " 109  96  89 117  98 105 106 110  92 105  99  98 101  93 117  98 100  96\n",
      " 113 102 114 113  87 103 109 115 102  97  93  86 100  97 104 104  99 109\n",
      " 114 101 115 100 113 101 104 108 107 105 116 102 112 103 107  97  95 120\n",
      " 103 105 111 101 106  96 101 108 117 110  92 107 102 109  93 118 108  90\n",
      "  97 101 106 111 115 112  94  82 105  96 112 102 104 121 111 102  98 108\n",
      " 103 101 104 123  96 108 108 100 116 109 106 109  98 100  91 104  95  95\n",
      " 111 109 120  96  90 111 113 114 117  94  95  96 115  95  99 106  96  99\n",
      "  83 105  88  93  91  86  93 100 110 103  99 113  88  98 106 114  93  93\n",
      " 100 108 103 112 106  99 111  99 101  99  98  91 121 101 100  96 111  93\n",
      " 102 109  90 108 100  94 111 106 103 111 105 119 106 102 113  89  97 101\n",
      " 102 100 103 103 110  96 115 109 108 102 106 116 101 110  97  90  97  94\n",
      "  94 101 105 112  83 114 106 104 107 110  95 100 109  99  95 100 105 115\n",
      " 117 124  97 107 113 105  87  98 104  99 102 101  97  95 106 120 105 114\n",
      "  99 103 103  99 110 106 105 106 103 105  96  88 112 102  99  98  97  94\n",
      " 110 105 102  98 126 102  95  90  94 105 108 110 108  88  93 107 100 104\n",
      " 116  97  85  92 115  99 124 106 101 103  99 111 103 110 106 101 107 114\n",
      " 104 110 104 108 107 120 100 105 106  96 106 106 105 101 102 102 119  87\n",
      " 106 114  93 105 111 110  93  97 115  95 108 104  93 111]\n",
      "\n",
      "Humid days: [ 82 102  98 101 109 108 122 116 109 105  84 104  97 121 100  91  81 110\n",
      "  90  99  92 116  97 112 108 100  95 114  99 106 105  99  87 101 100 108\n",
      "  98 110  95 113 123 118 102  95  99 112 114 104 113 103 115 100 110  97\n",
      " 101 101 112  97 109 124 110  97 121 121 102 110 105 107 105 107  91 119\n",
      " 110 107  91 100 113 101 105  98 106 101 102 100 116  97 117  94 102  95\n",
      "  96 111  99  91  95  97 108 100 107 117  99 118 117 105 107  98  90 118\n",
      "  91 117 106  96 114 113 105  91 101  98 100 110  82  89 106 109  89 117\n",
      " 114  98 100 103 111 103  87 104 102 104  99 102  99 110 123  88 112 103\n",
      " 110 106 103 115  96 102  95 118 112  89  96 112 109 107 112 117 107 102\n",
      " 112  95 111 112  96 113 110  93 121  93 108 111  95 107 112  96 102 104\n",
      " 109 120  99 100 104  86 101  97 107  87  92 103 104 106 102 113 104 109\n",
      "  94 110  99 110  92 113 109 102 118 109 119 116 103 106  98 104 110  92\n",
      " 104 113  97 108 115 101 109 101 108 107 104 100 101 102 103 101 115  87\n",
      "  99 110 108 114 100 115 113 106  91 106  97 101 112  88 107 106 110 106\n",
      " 119 112 112  92  96 100 103 109 110 114  88  87  93  92 106 103 111 100\n",
      "  98 114 114  95  97 113 111  94 104  99  98 100 113 116 104 102 101 104\n",
      " 105 106  89 114 121 100 111 116  91 119 100 123 109 114 104 104 118 100\n",
      " 109  90  99 110  97 130  90 110 110  95  92  99 111  92  98  86 119 104\n",
      " 120  88 100  97 103  97  97 119  97  90 106 122  96 111 101 109  97 102\n",
      "  95 103 107  89 109 108  94 107  94 109 104 101 100 112 105 100 114 101\n",
      " 105 107 101  97  99 109  99 118  89 108 113  92 103  97 115 123 107 114\n",
      " 115 102 111  89 105  82  89 116 101 106 113 105 102 110 108 103 100 101\n",
      " 109 108 109 100 117 106  98 111 103 101 110 116 112 122 106 102 105 104\n",
      " 112  96 109 101 111 108  88  94 104 104 114 119 111 105 110 105 100 119\n",
      " 105 105 100 100  97 108 100 113  95  95 101 102 107 114 122  88 120 121\n",
      "  83 113 108 103  95 115  86 105 103 104 110 111 113 101  99 105 102 107\n",
      " 103 111  91  98 109 101  94  96  93 102 100 101  99 102 114  92 103  92\n",
      "  74 112  98  94 102 103  99 102 100 111 109 107  99 102]\n"
     ]
    }
   ],
   "source": [
    "# Classify each day's humidity level as \"Dry\" (humidity < 30%) or \"Humid\" (humidity > 70%)\n",
    "dry_days = humidity_data < 30\n",
    "humid_days = humidity_data > 70\n",
    "\n",
    "# Count total \"Dry\" and \"Humid\" days for each location\n",
    "dry_day_count = np.sum(dry_days, axis=1)\n",
    "humid_day_count = np.sum(humid_days, axis=1)\n",
    "\n",
    "print(\"Dry and Humid day counts for each location:\")\n",
    "print(\"Dry days:\", dry_day_count)\n",
    "\n",
    "print(\"\\nHumid days:\", humid_day_count)\n"
   ]
  },
  {
   "cell_type": "markdown",
   "metadata": {},
   "source": [
    "- Task 8"
   ]
  },
  {
   "cell_type": "code",
   "execution_count": 58,
   "metadata": {},
   "outputs": [
    {
     "name": "stdout",
     "output_type": "stream",
     "text": [
      "Daily pressure trend applied to temperature data.\n"
     ]
    },
    {
     "data": {
      "text/plain": [
       "array([[29.44115923, 18.95522896, -7.50208742, ..., -9.66777543,\n",
       "        -5.75194109, 14.85322829],\n",
       "       [        nan, 28.09117496,  8.10614176, ..., 30.13886991,\n",
       "         0.38443413, 21.64885155],\n",
       "       [12.0807892 , -2.51805197, 24.28741512, ..., 27.59716746,\n",
       "         8.81345483, 21.36570787],\n",
       "       ...,\n",
       "       [22.59583355,         nan,         nan, ..., -0.65151472,\n",
       "        -3.00087938,  3.12551862],\n",
       "       [11.66084408, -2.83122488, 11.8440468 , ..., 29.87961975,\n",
       "        25.62790847,  0.30870231],\n",
       "       [-3.19878061, -4.37596151, 14.57361278, ...,         nan,\n",
       "        30.21428137, -2.91798004]])"
      ]
     },
     "execution_count": 58,
     "metadata": {},
     "output_type": "execute_result"
    }
   ],
   "source": [
    "# Generate a daily pressure trend across 365 days (e.g., a sinusoidal trend for seasonal effect)\n",
    "# We'll create a simple sine wave to represent the pressure change\n",
    "pressure_trend = 5 * np.sin(np.linspace(0, 2 * np.pi, 365))\n",
    "\n",
    "# Apply the pressure trend to adjust temperatures at each location (add to each row)\n",
    "temperature_adjusted = temperature_data + pressure_trend\n",
    "\n",
    "print(\"Daily pressure trend applied to temperature data.\")\n",
    "temperature_adjusted"
   ]
  }
 ],
 "metadata": {
  "kernelspec": {
   "display_name": "Python 3",
   "language": "python",
   "name": "python3"
  },
  "language_info": {
   "codemirror_mode": {
    "name": "ipython",
    "version": 3
   },
   "file_extension": ".py",
   "mimetype": "text/x-python",
   "name": "python",
   "nbconvert_exporter": "python",
   "pygments_lexer": "ipython3",
   "version": "3.12.0"
  }
 },
 "nbformat": 4,
 "nbformat_minor": 2
}
