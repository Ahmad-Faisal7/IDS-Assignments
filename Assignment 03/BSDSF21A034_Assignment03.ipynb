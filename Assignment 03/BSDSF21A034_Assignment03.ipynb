{
 "cells": [
  {
   "cell_type": "markdown",
   "metadata": {},
   "source": [
    "**IDS Assignment 03**\n",
    "* Ahmad Faisal\n",
    "* BSDSF21A034"
   ]
  },
  {
   "cell_type": "markdown",
   "metadata": {},
   "source": [
    "Task 1: E-commerce Data Processing \n",
    "- Part A: Data Validation"
   ]
  },
  {
   "cell_type": "code",
   "execution_count": 1,
   "metadata": {},
   "outputs": [
    {
     "data": {
      "text/plain": [
       "[{'customer': 'Alice', 'total': 250.5},\n",
       " {'customer': 'Charlie', 'total': 450},\n",
       " {'customer': 'Daisy', 'total': 100.0}]"
      ]
     },
     "execution_count": 1,
     "metadata": {},
     "output_type": "execute_result"
    }
   ],
   "source": [
    "# We are given a list of orders, each represented by a dictionary. The goal is to filter out invalid orders.\n",
    "# An invalid order is one where the total is non-numeric or less than zero. We'll use a lambda function with `filter()`\n",
    "# and exception handling to manage conversion issues.\n",
    "\n",
    "orders = [\n",
    "    {\"customer\": \"Alice\", \"total\": 250.5},\n",
    "    {\"customer\": \"Bob\", \"total\": \"invalid_data\"},\n",
    "    {\"customer\": \"Charlie\", \"total\": 450},\n",
    "    {\"customer\": \"Daisy\", \"total\": 100.0},\n",
    "    {\"customer\": \"Eve\", \"total\": -30},  # Invalid total\n",
    "]\n",
    "\n",
    "def validate_orders(order_list):\n",
    "    # Function to filter out invalid orders\n",
    "    def is_valid_order(order):\n",
    "        try:\n",
    "            # Check if the 'total' is numeric and greater than or equal to 0\n",
    "            return isinstance(order['total'], (int, float)) and order['total'] >= 0\n",
    "        except (TypeError, ValueError) as e:\n",
    "            return False\n",
    "    \n",
    "    # Use filter with lambda to filter invalid orders\n",
    "    valid_orders = list(filter(is_valid_order, order_list))\n",
    "    return valid_orders\n",
    "\n",
    "# Call the function to validate orders\n",
    "valid_orders = validate_orders(orders)\n",
    "valid_orders\n"
   ]
  },
  {
   "cell_type": "markdown",
   "metadata": {},
   "source": [
    "- Part B: Discount Application"
   ]
  },
  {
   "cell_type": "code",
   "execution_count": 2,
   "metadata": {},
   "outputs": [
    {
     "data": {
      "text/plain": [
       "[{'customer': 'Alice', 'total': 250.5},\n",
       " {'customer': 'Charlie', 'total': 405.0},\n",
       " {'customer': 'Daisy', 'total': 100.0}]"
      ]
     },
     "execution_count": 2,
     "metadata": {},
     "output_type": "execute_result"
    }
   ],
   "source": [
    "# Now we need to apply a 10% discount to all valid orders that have a total greater than $300.\n",
    "# We'll use the `map()` function along with a lambda function to apply the discount.\n",
    "\n",
    "def apply_discount(order_list):\n",
    "    # Lambda function to apply 10% discount if total is above 300\n",
    "    return list(map(lambda order: {**order, 'total': order['total'] * 0.9} if order['total'] > 300 else order, order_list))\n",
    "\n",
    "# Call the function to apply discount\n",
    "discounted_orders = apply_discount(valid_orders)\n",
    "discounted_orders\n"
   ]
  },
  {
   "cell_type": "markdown",
   "metadata": {},
   "source": [
    "- Part C: Total Sales Calculation"
   ]
  },
  {
   "cell_type": "code",
   "execution_count": 3,
   "metadata": {},
   "outputs": [
    {
     "data": {
      "text/plain": [
       "755.5"
      ]
     },
     "execution_count": 3,
     "metadata": {},
     "output_type": "execute_result"
    }
   ],
   "source": [
    "# We'll use the `reduce()` function to calculate the total sales from the valid orders after discounts.\n",
    "# The `reduce()` function applies a lambda function cumulatively to the items in the list.\n",
    "\n",
    "from functools import reduce\n",
    "\n",
    "def calculate_total_sales(order_list):\n",
    "    # Lambda to accumulate the total sales\n",
    "    return reduce(lambda acc, order: acc + order['total'], order_list, 0)\n",
    "\n",
    "# Calculate the total sales\n",
    "total_sales = calculate_total_sales(discounted_orders)\n",
    "total_sales\n"
   ]
  },
  {
   "cell_type": "markdown",
   "metadata": {},
   "source": [
    "Task 2: Iterator and Generator\n",
    "- Part A: Custom Iterator"
   ]
  },
  {
   "cell_type": "code",
   "execution_count": 4,
   "metadata": {},
   "outputs": [
    {
     "data": {
      "text/plain": [
       "[1, 4, 9, 16, 25]"
      ]
     },
     "execution_count": 4,
     "metadata": {},
     "output_type": "execute_result"
    }
   ],
   "source": [
    "# We will create a custom iterator class `SquareIterator` that yields the squares of the first `n` natural numbers.\n",
    "\n",
    "class SquareIterator:\n",
    "    def __init__(self, n):\n",
    "        self.n = n\n",
    "        self.current = 1\n",
    "    \n",
    "    def __iter__(self):\n",
    "        return self\n",
    "    \n",
    "    def __next__(self):\n",
    "        if self.current > self.n:\n",
    "            raise StopIteration\n",
    "        else:\n",
    "            result = self.current ** 2\n",
    "            self.current += 1\n",
    "            return result\n",
    "\n",
    "# Create an instance of the iterator and print the squares of the first 5 natural numbers\n",
    "square_iter = SquareIterator(5)\n",
    "list(square_iter)\n"
   ]
  },
  {
   "cell_type": "markdown",
   "metadata": {},
   "source": [
    "- Part B: Fibonacci Generator"
   ]
  },
  {
   "cell_type": "code",
   "execution_count": 9,
   "metadata": {},
   "outputs": [
    {
     "data": {
      "text/plain": [
       "[0, 1, 1, 2, 3, 5, 8, 13, 21]"
      ]
     },
     "execution_count": 9,
     "metadata": {},
     "output_type": "execute_result"
    }
   ],
   "source": [
    "# We will create a generator function `fibonacci_generator()` that yields Fibonacci numbers up to `n`.\n",
    "\n",
    "def fibonacci_generator1(n):\n",
    "    a, b = 0, 1\n",
    "    while a <= n:\n",
    "        yield a\n",
    "        a, b = b, a + b\n",
    "\n",
    "# Test the generator by printing Fibonacci numbers up to 30\n",
    "list(fibonacci_generator1(30))\n"
   ]
  },
  {
   "cell_type": "code",
   "execution_count": 8,
   "metadata": {},
   "outputs": [
    {
     "data": {
      "text/plain": [
       "[0, 1, 1, 2, 3, 5, 8, 13, 21, 34]"
      ]
     },
     "execution_count": 8,
     "metadata": {},
     "output_type": "execute_result"
    }
   ],
   "source": [
    "# Another solution that generates first 'n' Fibonacci numbers.\n",
    "\n",
    "def fibonacci_generator2(n):\n",
    "    a, b = 0, 1\n",
    "    count = 0\n",
    "    while count < n:\n",
    "        yield a\n",
    "        a, b = b, a + b\n",
    "        count += 1\n",
    "\n",
    "# Test the generator by printing First 10 Fibonacci numbers\n",
    "list(fibonacci_generator2(10))"
   ]
  },
  {
   "cell_type": "markdown",
   "metadata": {},
   "source": [
    "Task 3: Exception Handling and Function Decorator\n",
    "- Part A: Chained Exceptions"
   ]
  },
  {
   "cell_type": "code",
   "execution_count": 15,
   "metadata": {},
   "outputs": [
    {
     "name": "stdout",
     "output_type": "stream",
     "text": [
      "Cannot divide by zero\n",
      "Error processing thirty: unsupported operand type(s) for /: 'str' and 'int'\n"
     ]
    }
   ],
   "source": [
    "# We'll write a function that divides a list of numbers by a divisor and handles two types of exceptions:\n",
    "# - Custom exception for division by zero\n",
    "# - Generic exception chained to the custom exception for non-numeric values\n",
    "\n",
    "class DivisionByZeroError(Exception):\n",
    "    pass\n",
    "\n",
    "def divide_numbers(num_list, divisor):\n",
    "    result = []\n",
    "    for num in num_list:\n",
    "        try:\n",
    "            if divisor == 0:\n",
    "                raise DivisionByZeroError(\"Cannot divide by zero\")\n",
    "            result.append(num / divisor)\n",
    "        except DivisionByZeroError as e:\n",
    "            raise e  # Raising the custom exception\n",
    "        except Exception as e:\n",
    "            raise Exception(f\"Error processing {num}: {e}\") from e  # Chaining other exceptions\n",
    "    return result\n",
    "\n",
    "# Test the function with two cases:\n",
    "try:\n",
    "    # Case 1: Divisor is 0 (raises DivisionByZeroError)\n",
    "    numbers = [10, 20, 'thirty', 40]\n",
    "    divide_numbers(numbers, 0)\n",
    "except Exception as e:\n",
    "    print(e)\n",
    "\n",
    "try:\n",
    "    # Case 2: Divisor is 2 (will raise a generic exception for 'thirty')\n",
    "    divide_numbers(numbers, 2)\n",
    "except Exception as e:\n",
    "    print(e)\n"
   ]
  },
  {
   "cell_type": "markdown",
   "metadata": {},
   "source": [
    "- Part B: Exception Logging Decorator"
   ]
  },
  {
   "cell_type": "code",
   "execution_count": 14,
   "metadata": {},
   "outputs": [
    {
     "name": "stdout",
     "output_type": "stream",
     "text": [
      "Exception occurred in function 'faulty_function': ZeroDivisionError - division by zero\n"
     ]
    }
   ],
   "source": [
    "# We will create a decorator that logs exceptions raised during function execution.\n",
    "\n",
    "def exception_logger(func):\n",
    "    def wrapper(*args, **kwargs):\n",
    "        try:\n",
    "            return func(*args, **kwargs)\n",
    "        except Exception as e:\n",
    "            print(f\"Exception occurred in function '{func.__name__}': {type(e).__name__} - {e}\")\n",
    "            raise\n",
    "    return wrapper\n",
    "\n",
    "# Applying the decorator to a function that raises an exception\n",
    "@exception_logger\n",
    "def faulty_function(x):\n",
    "    return 10 / x\n",
    "\n",
    "# Test the function to trigger the exception and log it\n",
    "try:\n",
    "    faulty_function(0)\n",
    "except Exception as e:\n",
    "    pass  # Exception already logged\n"
   ]
  }
 ],
 "metadata": {
  "kernelspec": {
   "display_name": "Python 3",
   "language": "python",
   "name": "python3"
  },
  "language_info": {
   "codemirror_mode": {
    "name": "ipython",
    "version": 3
   },
   "file_extension": ".py",
   "mimetype": "text/x-python",
   "name": "python",
   "nbconvert_exporter": "python",
   "pygments_lexer": "ipython3",
   "version": "3.12.0"
  }
 },
 "nbformat": 4,
 "nbformat_minor": 2
}
