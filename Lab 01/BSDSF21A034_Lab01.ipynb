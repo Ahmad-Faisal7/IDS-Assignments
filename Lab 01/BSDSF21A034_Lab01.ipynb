{
 "cells": [
  {
   "cell_type": "markdown",
   "metadata": {},
   "source": [
    "***IDS Lab 01***"
   ]
  },
  {
   "cell_type": "markdown",
   "metadata": {},
   "source": [
    "Ahmad Faisal"
   ]
  },
  {
   "cell_type": "markdown",
   "metadata": {},
   "source": [
    "BSDSF21A034\n",
    "______________________________________________________________________________________________________________________________________"
   ]
  },
  {
   "cell_type": "markdown",
   "metadata": {},
   "source": [
    "- Task 1"
   ]
  },
  {
   "cell_type": "code",
   "execution_count": 10,
   "metadata": {},
   "outputs": [
    {
     "name": "stdout",
     "output_type": "stream",
     "text": [
      "1D array of integers from 1 to 20:  [ 1  2  3  4  5  6  7  8  9 10 11 12 13 14 15 16 17 18 19 20]\n",
      "4x5 2D array: \n",
      " [[ 1  2  3  4  5]\n",
      " [ 6  7  8  9 10]\n",
      " [11 12 13 14 15]\n",
      " [16 17 18 19 20]]\n",
      "After replacement last column with zeros: \n",
      " [[ 1  2  3  4  0]\n",
      " [ 6  7  8  9  0]\n",
      " [11 12 13 14  0]\n",
      " [16 17 18 19  0]]\n",
      "Final flattened array: [ 1  2  3  4  0  6  7  8  9  0 11 12 13 14  0 16 17 18 19  0]\n"
     ]
    }
   ],
   "source": [
    "import numpy as np\n",
    "\n",
    "arr = np.arange(1, 21)\n",
    "print (\"1D array of integers from 1 to 20: \", arr)\n",
    "\n",
    "\n",
    "arr_2d = arr.reshape(4, 5)\n",
    "print (\"4x5 2D array: \\n\",arr_2d)\n",
    "\n",
    "\n",
    "arr_2d[:, -1] = 0\n",
    "print (\"After replacement last column with zeros: \\n\",arr_2d)\n",
    "\n",
    "\n",
    "arr_flattened = arr_2d.flatten()\n",
    "print(\"Final flattened array:\", arr_flattened)\n"
   ]
  },
  {
   "cell_type": "markdown",
   "metadata": {},
   "source": [
    "\n",
    "- Task 2"
   ]
  },
  {
   "cell_type": "code",
   "execution_count": 11,
   "metadata": {},
   "outputs": [
    {
     "name": "stdout",
     "output_type": "stream",
     "text": [
      "Array:\n",
      " [[21 17 15 25 12]\n",
      " [27 43 20 33 28]\n",
      " [46 17 39 44 22]\n",
      " [35 43 22 21 40]\n",
      " [23 44 38 39 40]]\n",
      "\n",
      "Row-wise calculations:\n",
      "Row 1 - Mean: 18.0, Sum: 90, Min: 12, Max: 25\n",
      "Row 2 - Mean: 30.2, Sum: 151, Min: 20, Max: 43\n",
      "Row 3 - Mean: 33.6, Sum: 168, Min: 17, Max: 46\n",
      "Row 4 - Mean: 32.2, Sum: 161, Min: 21, Max: 43\n",
      "Row 5 - Mean: 36.8, Sum: 184, Min: 23, Max: 44\n",
      "\n",
      "Column-wise calculations:\n",
      "Column 1 - Mean: 30.4, Sum: 152, Min: 21, Max: 46\n",
      "Column 2 - Mean: 32.8, Sum: 164, Min: 17, Max: 44\n",
      "Column 3 - Mean: 26.8, Sum: 134, Min: 15, Max: 39\n",
      "Column 4 - Mean: 32.4, Sum: 162, Min: 21, Max: 44\n",
      "Column 5 - Mean: 28.4, Sum: 142, Min: 12, Max: 40\n"
     ]
    }
   ],
   "source": [
    "arr_2d_random = np.random.randint(10, 51, (5, 5))\n",
    "\n",
    "\n",
    "print(\"Array:\\n\", arr_2d_random)\n",
    "print(\"\\nRow-wise calculations:\")\n",
    "for i, row in enumerate(arr_2d_random):\n",
    "    print(f\"Row {i+1} - Mean: {row.mean()}, Sum: {row.sum()}, Min: {row.min()}, Max: {row.max()}\")\n",
    "\n",
    "\n",
    "print(\"\\nColumn-wise calculations:\")\n",
    "for j in range(arr_2d_random.shape[1]):\n",
    "    col = arr_2d_random[:, j]\n",
    "    print(f\"Column {j+1} - Mean: {col.mean()}, Sum: {col.sum()}, Min: {col.min()}, Max: {col.max()}\")\n"
   ]
  },
  {
   "cell_type": "markdown",
   "metadata": {},
   "source": [
    "- Task 3"
   ]
  },
  {
   "cell_type": "code",
   "execution_count": 12,
   "metadata": {},
   "outputs": [
    {
     "name": "stdout",
     "output_type": "stream",
     "text": [
      "Modified matrix:\n",
      " [[6. 0. 0. 0.]\n",
      " [0. 6. 0. 0.]\n",
      " [0. 0. 6. 0.]\n",
      " [1. 1. 1. 1.]]\n"
     ]
    }
   ],
   "source": [
    "identity_matrix = np.eye(4)\n",
    "\n",
    "\n",
    "np.fill_diagonal(identity_matrix, identity_matrix.diagonal() + 5)\n",
    "\n",
    "\n",
    "identity_matrix[-1, :] = 1\n",
    "\n",
    "\n",
    "print(\"Modified matrix:\\n\", identity_matrix)\n"
   ]
  },
  {
   "cell_type": "markdown",
   "metadata": {},
   "source": [
    "- Task 4"
   ]
  },
  {
   "cell_type": "code",
   "execution_count": 13,
   "metadata": {},
   "outputs": [
    {
     "name": "stdout",
     "output_type": "stream",
     "text": [
      "Array: [ 9  1  7 16  7 18 17 14  0  3 15  3  6 20 16]\n",
      "Occurrences of each unique value: {0: 1, 1: 1, 3: 2, 6: 1, 7: 2, 9: 1, 14: 1, 15: 1, 16: 2, 17: 1, 18: 1, 20: 1}\n",
      "Indices of elements greater than 10: [ 3  5  6  7 10 13 14]\n"
     ]
    }
   ],
   "source": [
    "arr_random = np.random.randint(0, 21, 15)\n",
    "\n",
    "\n",
    "unique_values, counts = np.unique(arr_random, return_counts=True)\n",
    "occurrences = dict(zip(unique_values, counts))\n",
    "\n",
    "\n",
    "indices_greater_than_10 = np.where(arr_random > 10)[0]\n",
    "\n",
    "\n",
    "print(\"Array:\", arr_random)\n",
    "print(\"Occurrences of each unique value:\", occurrences)\n",
    "print(\"Indices of elements greater than 10:\", indices_greater_than_10)\n"
   ]
  },
  {
   "cell_type": "markdown",
   "metadata": {},
   "source": [
    "- Task 5"
   ]
  },
  {
   "cell_type": "code",
   "execution_count": 14,
   "metadata": {},
   "outputs": [
    {
     "name": "stdout",
     "output_type": "stream",
     "text": [
      "Modified array:\n",
      " [[0.1  0.5  0.97 0.11]\n",
      " [0.62 0.5  0.59 0.55]\n",
      " [0.43 0.5  0.7  0.17]]\n"
     ]
    }
   ],
   "source": [
    "arr_float = np.random.rand(3, 4)\n",
    "\n",
    "\n",
    "arr_rounded = np.round(arr_float, 2)\n",
    "\n",
    "\n",
    "arr_rounded[:, 1] = 0.5\n",
    "\n",
    "\n",
    "print(\"Modified array:\\n\", arr_rounded)\n"
   ]
  }
 ],
 "metadata": {
  "kernelspec": {
   "display_name": "Python 3",
   "language": "python",
   "name": "python3"
  },
  "language_info": {
   "codemirror_mode": {
    "name": "ipython",
    "version": 3
   },
   "file_extension": ".py",
   "mimetype": "text/x-python",
   "name": "python",
   "nbconvert_exporter": "python",
   "pygments_lexer": "ipython3",
   "version": "3.12.0"
  }
 },
 "nbformat": 4,
 "nbformat_minor": 2
}
