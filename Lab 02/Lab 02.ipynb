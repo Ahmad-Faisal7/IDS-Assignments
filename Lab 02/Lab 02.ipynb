{
 "cells": [
  {
   "cell_type": "markdown",
   "metadata": {},
   "source": [
    "# Lab 02"
   ]
  },
  {
   "cell_type": "markdown",
   "metadata": {},
   "source": [
    "**Ahmad Faisal**"
   ]
  },
  {
   "cell_type": "markdown",
   "metadata": {},
   "source": [
    "**BSDSF21A034**"
   ]
  },
  {
   "cell_type": "markdown",
   "metadata": {},
   "source": [
    "### Task 01 ###"
   ]
  },
  {
   "cell_type": "markdown",
   "metadata": {},
   "source": [
    "* Import Libraries"
   ]
  },
  {
   "cell_type": "code",
   "execution_count": 1,
   "metadata": {},
   "outputs": [],
   "source": [
    "import numpy as np"
   ]
  },
  {
   "cell_type": "markdown",
   "metadata": {},
   "source": [
    "* Create a NumPy array for player statistics"
   ]
  },
  {
   "cell_type": "code",
   "execution_count": 2,
   "metadata": {},
   "outputs": [
    {
     "name": "stdout",
     "output_type": "stream",
     "text": [
      "Initial Player Statistics:\n",
      " [[180  75  20]\n",
      " [175  68  15]\n",
      " [190  85  30]\n",
      " [165  60  10]]\n"
     ]
    }
   ],
   "source": [
    "# Format: [Height (cm), Weight (kg), Points Scored]\n",
    "player_stats = np.array([\n",
    "    [180, 75, 20],\n",
    "    [175, 68, 15],\n",
    "    [190, 85, 30],\n",
    "    [165, 60, 10]\n",
    "])\n",
    "print(\"Initial Player Statistics:\\n\", player_stats)\n"
   ]
  },
  {
   "cell_type": "markdown",
   "metadata": {},
   "source": [
    "* Update the weight of the player with the maximum points scored"
   ]
  },
  {
   "cell_type": "code",
   "execution_count": 3,
   "metadata": {},
   "outputs": [
    {
     "name": "stdout",
     "output_type": "stream",
     "text": [
      "\n",
      "Updated Player Statistics (Weight of Max Scorer Updated):\n",
      " [[180  75  20]\n",
      " [175  68  15]\n",
      " [190  90  30]\n",
      " [165  60  10]]\n"
     ]
    }
   ],
   "source": [
    "# Find the index of the player with the maximum points scored\n",
    "max_points_index = np.argmax(player_stats[:, 2])\n",
    "\n",
    "# Update their weight (e.g., add 5 kg)\n",
    "player_stats[max_points_index, 1] += 5\n",
    "print(\"\\nUpdated Player Statistics (Weight of Max Scorer Updated):\\n\", player_stats)"
   ]
  },
  {
   "cell_type": "markdown",
   "metadata": {},
   "source": [
    "*  Append a new player's statistics to the array"
   ]
  },
  {
   "cell_type": "code",
   "execution_count": 4,
   "metadata": {},
   "outputs": [
    {
     "name": "stdout",
     "output_type": "stream",
     "text": [
      "\n",
      "Player Statistics After Adding a New Player:\n",
      " [[180  75  20]\n",
      " [175  68  15]\n",
      " [190  90  30]\n",
      " [165  60  10]\n",
      " [185  80  25]]\n"
     ]
    }
   ],
   "source": [
    "# New player stats: [Height, Weight, Points Scored]\n",
    "new_player = [185, 80, 25]\n",
    "player_stats = np.vstack([player_stats, new_player])\n",
    "print(\"\\nPlayer Statistics After Adding a New Player:\\n\", player_stats)"
   ]
  },
  {
   "cell_type": "markdown",
   "metadata": {},
   "source": [
    "* Insert a new statistic at a specified index within the array"
   ]
  },
  {
   "cell_type": "code",
   "execution_count": 5,
   "metadata": {},
   "outputs": [
    {
     "name": "stdout",
     "output_type": "stream",
     "text": [
      "\n",
      "Player Statistics After Inserting a New Statistic:\n",
      " [[180  75  20]\n",
      " [175  68  15]\n",
      " [170  65  18]\n",
      " [190  90  30]\n",
      " [165  60  10]\n",
      " [185  80  25]]\n"
     ]
    }
   ],
   "source": [
    "# Insert a new player at index 2\n",
    "new_statistic = [170, 65, 18]\n",
    "player_stats = np.insert(player_stats, 2, new_statistic, axis=0)\n",
    "print(\"\\nPlayer Statistics After Inserting a New Statistic:\\n\", player_stats)\n"
   ]
  },
  {
   "cell_type": "markdown",
   "metadata": {},
   "source": [
    "* Delete the player with the lowest points scored"
   ]
  },
  {
   "cell_type": "code",
   "execution_count": 6,
   "metadata": {},
   "outputs": [
    {
     "name": "stdout",
     "output_type": "stream",
     "text": [
      "\n",
      "Player Statistics After Deleting the Player with Lowest Points:\n",
      " [[180  75  20]\n",
      " [175  68  15]\n",
      " [170  65  18]\n",
      " [190  90  30]\n",
      " [185  80  25]]\n"
     ]
    }
   ],
   "source": [
    "# Find the index of the player with the lowest points scored\n",
    "min_points_index = np.argmin(player_stats[:, 2])\n",
    "\n",
    "# Delete the player\n",
    "player_stats = np.delete(player_stats, min_points_index, axis=0)\n",
    "print(\"\\nPlayer Statistics After Deleting the Player with Lowest Points:\\n\", player_stats)\n"
   ]
  },
  {
   "cell_type": "markdown",
   "metadata": {},
   "source": [
    "### Task 02 ###"
   ]
  },
  {
   "cell_type": "markdown",
   "metadata": {},
   "source": [
    "* Create two NumPy arrays for purchase amounts and item counts"
   ]
  },
  {
   "cell_type": "code",
   "execution_count": 7,
   "metadata": {},
   "outputs": [
    {
     "name": "stdout",
     "output_type": "stream",
     "text": [
      "Purchase Amounts: [150 200  50 300 120]\n",
      "Item Counts: [3 4 1 5 2]\n"
     ]
    }
   ],
   "source": [
    "# Purchase amounts in dollars\n",
    "purchase_amounts = np.array([150, 200, 50, 300, 120])\n",
    "\n",
    "# Item counts for each purchase\n",
    "item_counts = np.array([3, 4, 1, 5, 2])\n",
    "\n",
    "print(\"Purchase Amounts:\", purchase_amounts)\n",
    "print(\"Item Counts:\", item_counts)\n"
   ]
  },
  {
   "cell_type": "markdown",
   "metadata": {},
   "source": [
    "* Create a shallow copy of one and a deep copy of the other"
   ]
  },
  {
   "cell_type": "code",
   "execution_count": 8,
   "metadata": {},
   "outputs": [
    {
     "name": "stdout",
     "output_type": "stream",
     "text": [
      "\n",
      "Shallow Copy of Purchase Amounts: [150 200  50 300 120]\n",
      "Deep Copy of Item Counts: [3 4 1 5 2]\n"
     ]
    }
   ],
   "source": [
    "# Shallow copy of purchase amounts\n",
    "purchase_shallow_copy = purchase_amounts.view()\n",
    "\n",
    "# Deep copy of item counts\n",
    "item_deep_copy = item_counts.copy()\n",
    "\n",
    "print(\"\\nShallow Copy of Purchase Amounts:\", purchase_shallow_copy)\n",
    "print(\"Deep Copy of Item Counts:\", item_deep_copy)\n"
   ]
  },
  {
   "cell_type": "markdown",
   "metadata": {},
   "source": [
    "* Concatenate both arrays"
   ]
  },
  {
   "cell_type": "code",
   "execution_count": 9,
   "metadata": {},
   "outputs": [
    {
     "name": "stdout",
     "output_type": "stream",
     "text": [
      "\n",
      "Concatenated Array: [150 200  50 300 120   3   4   1   5   2]\n"
     ]
    }
   ],
   "source": [
    "# Concatenate purchase amounts and item counts\n",
    "combined_array = np.concatenate((purchase_amounts, item_counts))\n",
    "print(\"\\nConcatenated Array:\", combined_array)\n"
   ]
  },
  {
   "cell_type": "markdown",
   "metadata": {},
   "source": [
    "* Split the concatenated array based on a condition"
   ]
  },
  {
   "cell_type": "code",
   "execution_count": 10,
   "metadata": {},
   "outputs": [
    {
     "name": "stdout",
     "output_type": "stream",
     "text": [
      "\n",
      "Values Greater Than 100: [150 200 300 120]\n",
      "Values Less or Equal to 100: [50  3  4  1  5  2]\n"
     ]
    }
   ],
   "source": [
    "# Split into two arrays: values greater than 100 and others\n",
    "greater_than_100 = combined_array[combined_array > 100]\n",
    "less_or_equal_100 = combined_array[combined_array <= 100]\n",
    "\n",
    "print(\"\\nValues Greater Than 100:\", greater_than_100)\n",
    "print(\"Values Less or Equal to 100:\", less_or_equal_100)\n"
   ]
  },
  {
   "cell_type": "markdown",
   "metadata": {},
   "source": [
    "*  Modify the original arrays and analyze the effects on the copies"
   ]
  },
  {
   "cell_type": "code",
   "execution_count": 11,
   "metadata": {},
   "outputs": [
    {
     "name": "stdout",
     "output_type": "stream",
     "text": [
      "\n",
      "Modified Purchase Amounts: [180 200  50 300 120]\n",
      "Modified Item Counts: [3 6 1 5 2]\n",
      "\n",
      "Shallow Copy After Modification: [180 200  50 300 120]\n",
      "Deep Copy After Modification (Unchanged): [3 4 1 5 2]\n"
     ]
    }
   ],
   "source": [
    "# Modify the original arrays\n",
    "purchase_amounts[0] = 180  # Change the first purchase amount\n",
    "item_counts[1] = 6         # Change the second item count\n",
    "\n",
    "print(\"\\nModified Purchase Amounts:\", purchase_amounts)\n",
    "print(\"Modified Item Counts:\", item_counts)\n",
    "\n",
    "# Effects on the copies\n",
    "print(\"\\nShallow Copy After Modification:\", purchase_shallow_copy)\n",
    "print(\"Deep Copy After Modification (Unchanged):\", item_deep_copy)\n"
   ]
  }
 ],
 "metadata": {
  "kernelspec": {
   "display_name": "Python 3",
   "language": "python",
   "name": "python3"
  },
  "language_info": {
   "codemirror_mode": {
    "name": "ipython",
    "version": 3
   },
   "file_extension": ".py",
   "mimetype": "text/x-python",
   "name": "python",
   "nbconvert_exporter": "python",
   "pygments_lexer": "ipython3",
   "version": "3.12.0"
  }
 },
 "nbformat": 4,
 "nbformat_minor": 2
}
